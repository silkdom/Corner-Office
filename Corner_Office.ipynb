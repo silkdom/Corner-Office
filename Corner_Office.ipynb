{
  "nbformat": 4,
  "nbformat_minor": 0,
  "metadata": {
    "colab": {
      "name": "Corner Office.ipynb",
      "provenance": [],
      "collapsed_sections": []
    },
    "kernelspec": {
      "name": "python3",
      "display_name": "Python 3"
    }
  },
  "cells": [
    {
      "cell_type": "code",
      "metadata": {
        "id": "bbkaOJivrjtd",
        "colab_type": "code",
        "outputId": "cb732df7-c23c-427a-ed05-993a7752cc1c",
        "colab": {
          "base_uri": "https://localhost:8080/",
          "height": 235
        }
      },
      "source": [
        "!apt install chromium-chromedriver\n",
        "!cp /usr/lib/chromium-browser/chromedriver /usr/bin\n",
        "!pip install selenium"
      ],
      "execution_count": 0,
      "outputs": [
        {
          "output_type": "stream",
          "text": [
            "Reading package lists... Done\n",
            "Building dependency tree       \n",
            "Reading state information... Done\n",
            "chromium-chromedriver is already the newest version (79.0.3945.79-0ubuntu0.18.04.1).\n",
            "The following package was automatically installed and is no longer required:\n",
            "  libnvidia-common-430\n",
            "Use 'apt autoremove' to remove it.\n",
            "0 upgraded, 0 newly installed, 0 to remove and 7 not upgraded.\n",
            "cp: '/usr/lib/chromium-browser/chromedriver' and '/usr/bin/chromedriver' are the same file\n",
            "Requirement already satisfied: selenium in /usr/local/lib/python3.6/dist-packages (3.141.0)\n",
            "Requirement already satisfied: urllib3 in /usr/local/lib/python3.6/dist-packages (from selenium) (1.24.3)\n"
          ],
          "name": "stdout"
        }
      ]
    },
    {
      "cell_type": "code",
      "metadata": {
        "id": "Eoe_0_K4uhzH",
        "colab_type": "code",
        "colab": {}
      },
      "source": [
        "from selenium import webdriver\n",
        "options = webdriver.ChromeOptions()\n",
        "options.add_argument('-headless')\n",
        "options.add_argument('-no-sandbox')\n",
        "options.add_argument('-disable-dev-shm-usage')"
      ],
      "execution_count": 0,
      "outputs": []
    },
    {
      "cell_type": "code",
      "metadata": {
        "id": "fOoDEBatBxeE",
        "colab_type": "code",
        "colab": {}
      },
      "source": [
        "import datetime\n",
        "import time\n",
        "\n",
        "from datetime import datetime\n",
        "from datetime import timedelta"
      ],
      "execution_count": 0,
      "outputs": []
    },
    {
      "cell_type": "code",
      "metadata": {
        "id": "v8pKoxe_OloO",
        "colab_type": "code",
        "colab": {}
      },
      "source": [
        "import pandas\n",
        "\n",
        "googleSheetId = '1qhITsQa2TsThnGsW5EAdrIBT8rdrC20pndANeat04QY'\n",
        "worksheetName = 'Sheet1'\n",
        "URL = 'https://docs.google.com/spreadsheets/d/{0}/gviz/tq?tqx=out:csv&sheet={1}'.format(\n",
        "\tgoogleSheetId,\n",
        "\tworksheetName\n",
        ")\n",
        "\n",
        "df = pandas.read_csv(URL)"
      ],
      "execution_count": 0,
      "outputs": []
    },
    {
      "cell_type": "code",
      "metadata": {
        "id": "tFXJvZ65P0nW",
        "colab_type": "code",
        "colab": {
          "base_uri": "https://localhost:8080/",
          "height": 34
        },
        "outputId": "9d36dfb7-22a5-4ca5-a716-e6fa2249631b"
      },
      "source": [
        "month = df['month'][0]\n",
        "day = df['day'][0]\n",
        "date = df['date input'][0]\n",
        "time = df['time'][0]\n",
        "duration = df['duration'][0]\n",
        "emails = df['email input'][0]"
      ],
      "execution_count": 46,
      "outputs": [
        {
          "output_type": "execute_result",
          "data": {
            "text/plain": [
              "'3 hours'"
            ]
          },
          "metadata": {
            "tags": []
          },
          "execution_count": 46
        }
      ]
    },
    {
      "cell_type": "code",
      "metadata": {
        "id": "Ywa8wDg7CLfw",
        "colab_type": "code",
        "colab": {
          "base_uri": "https://localhost:8080/",
          "height": 34
        },
        "outputId": "0309abf6-4278-4819-c3a1-4586132c9e65"
      },
      "source": [
        "# start at 1 second past midnight\n",
        "target_time = datetime(2020, month, day, 7, 0, 1)\n",
        "# +7 hours difference\n",
        "\n",
        "while datetime.now() < target_time:\n",
        "  time.sleep(10)\n",
        "print('continue with code')"
      ],
      "execution_count": 25,
      "outputs": [
        {
          "output_type": "stream",
          "text": [
            "hello\n"
          ],
          "name": "stdout"
        }
      ]
    },
    {
      "cell_type": "code",
      "metadata": {
        "id": "vuPKFn2puqp0",
        "colab_type": "code",
        "colab": {}
      },
      "source": [
        "wd = webdriver.Chrome('chromedriver',options=options)\n",
        "\n",
        "wd.get('https://apps.rotman.utoronto.ca/rBookOSM/')\n",
        "# Select the id box\n",
        "id_box = wd.find_element_by_name('ctl00$ctl00$TemplateContent$mainbody$ui_UName')\n",
        "# Send id information\n",
        "id_box.send_keys('Dominic.Silk20@Rotman.Utoronto.Ca')\n",
        "\n",
        "# Find password box\n",
        "pass_box = wd.find_element_by_name('ctl00$ctl00$TemplateContent$mainbody$ui_PWord')\n",
        "# Send password\n",
        "pass_box.send_keys('Indo2019')\n",
        "\n",
        "# Find login button\n",
        "login_button = wd.find_element_by_id('ctl00_ctl00_TemplateContent_mainbody_ui_SubmitButton')\n",
        "# Click login\n",
        "login_button.click()\n",
        "\n",
        "# Find reserve room menu\n",
        "reserve_room = wd.find_element_by_id('body_menu_ui_ReserveLink')\n",
        "# Click reserve room menu\n",
        "reserve_room.click()\n",
        "\n",
        "#print(wd.page_source) # results"
      ],
      "execution_count": 0,
      "outputs": []
    },
    {
      "cell_type": "code",
      "metadata": {
        "id": "nWmmpOKWxkwE",
        "colab_type": "code",
        "colab": {}
      },
      "source": [
        "reserve_room = wd.find_element_by_id('body_menu_ui_ReserveLink')\n",
        "\n",
        "reserve_room.click()"
      ],
      "execution_count": 0,
      "outputs": []
    },
    {
      "cell_type": "code",
      "metadata": {
        "id": "R-ng-kF96Y7F",
        "colab_type": "code",
        "colab": {}
      },
      "source": [
        "from selenium.webdriver.support.ui import Select"
      ],
      "execution_count": 0,
      "outputs": []
    },
    {
      "cell_type": "code",
      "metadata": {
        "id": "tCeSJfYr5nqz",
        "colab_type": "code",
        "colab": {}
      },
      "source": [
        "# potential to HAVE TO ENTER TIME DELAYS\n",
        "select_dates = Select(wd.find_element_by_name('ctl00$ctl00$body$mainbody$ui_DateList'))\n",
        "select_dates.select_by_visible_text('date input')"
      ],
      "execution_count": 0,
      "outputs": []
    },
    {
      "cell_type": "code",
      "metadata": {
        "id": "j-If7kyH7ddp",
        "colab_type": "code",
        "colab": {}
      },
      "source": [
        "select_time = Select(wd.find_element_by_name('ctl00$ctl00$body$mainbody$ui_TimeDropDownList'))\n",
        "select_time.select_by_visible_text('time')"
      ],
      "execution_count": 0,
      "outputs": []
    },
    {
      "cell_type": "code",
      "metadata": {
        "id": "9b82poc673wd",
        "colab_type": "code",
        "colab": {}
      },
      "source": [
        "select_duration = Select(wd.find_element_by_name('ctl00$ctl00$body$mainbody$ui_DurationDropDownList'))\n",
        "select_duration.select_by_visible_text('duration')"
      ],
      "execution_count": 0,
      "outputs": []
    },
    {
      "cell_type": "code",
      "metadata": {
        "id": "JESYl6nIECKW",
        "colab_type": "code",
        "colab": {}
      },
      "source": [
        "wd.find_element_by_xpath('//*[@id=\"body_mainbody_ui_RoomGridView\"]/tbody/tr[33]/td[3]/a').click()\n",
        "#By.xpath('//*[@id=\"body_mainbody_ui_RoomGridView\"]/tbody/tr[26]/td[3]/a')).click(); \n",
        "\n",
        "# MIGHT JUST NEED TO DO X PATH BELOW - BUT THEN CANT SELECT OPTIONS\n",
        "\n",
        "#/html/body/form/div[6]/div[1]/div[1]/div[2]/div/div[2]/div/table/tbody/tr[27]/td[3]/a --- 3007\n",
        "#/html/body/form/div[6]/div[1]/div[1]/div[2]/div/div[2]/div/table/tbody/tr[28]/td[3]/a --- 3009\n",
        "#/html/body/form/div[6]/div[1]/div[1]/div[2]/div/div[2]/div/table/tbody/tr[31]/td[3]/a --- 3015\n",
        "#/html/body/form/div[6]/div[1]/div[1]/div[2]/div/div[2]/div/table/tbody/tr[33]/td[3]/a --- 3064 (GOOD ROOM)\n",
        "#/html/body/form/div[6]/div[1]/div[1]/div[1]/div[3]/select"
      ],
      "execution_count": 0,
      "outputs": []
    },
    {
      "cell_type": "code",
      "metadata": {
        "id": "ES31Q6SmEsaE",
        "colab_type": "code",
        "colab": {}
      },
      "source": [
        "emails = wd.find_element_by_id('Members')\n",
        "# Send id information\n",
        "emails.send_keys('emails')\n",
        "\n",
        "comment = wd.find_element_by_id('rComment')\n",
        "# Send id information\n",
        "comment.send_keys('test')\n",
        "\n",
        "submit_request = wd.find_element_by_id('BookPanelOkButton')\n",
        "\n",
        "submit_request.click()"
      ],
      "execution_count": 0,
      "outputs": []
    },
    {
      "cell_type": "code",
      "metadata": {
        "id": "0QmCiKXByJnh",
        "colab_type": "code",
        "colab": {}
      },
      "source": [
        "print(wd.page_source) # results"
      ],
      "execution_count": 0,
      "outputs": []
    },
    {
      "cell_type": "code",
      "metadata": {
        "id": "hO2VEMs3u16y",
        "colab_type": "code",
        "colab": {}
      },
      "source": [
        "# Select the id box\n",
        "#id_box = wd.find_element_by_name('ctl00$ctl00$TemplateContent$mainbody$ui_UName')\n",
        "# Send id information\n",
        "##id_box.send_keys('silkdomi')\n",
        "\n",
        "# Find password box\n",
        "#pass_box = wd.find_element_by_name('ctl00$ctl00$TemplateContent$mainbody$ui_PWord')\n",
        "# Send password\n",
        "#pass_box.send_keys('Indonesia2019')\n",
        "\n",
        "# Find login button\n",
        "#login_button = wd.find_element_by_id('ctl00_ctl00_TemplateContent_mainbody_ui_SubmitButton')\n",
        "# Click login\n",
        "#login_button.click()"
      ],
      "execution_count": 0,
      "outputs": []
    },
    {
      "cell_type": "code",
      "metadata": {
        "id": "AGjsHQkH9Q1b",
        "colab_type": "code",
        "colab": {}
      },
      "source": [
        "#select_room = wd.find_element_by_link_text('https://apps.rotman.utoronto.ca/rbookosm/BookRoomModal.html')\n",
        "#webDriver.findElement(By.xpath(\"//a[@href='/docs/configuration']\")).click();\n",
        "\n",
        "#select_room.click()\n",
        "#//*[@id=\"body_mainbody_ui_RoomGridView\"]/tbody/tr[26]/td[3]/a\n",
        "\n",
        "#<a href=\"BookRoomModal.html\" data-target=\"#dmodal\" data-toggle=\"modal\" class=\"btn btn-default btn-xs\" onclick=\"document.cookie='rid=79';document.cookie='et=00:00'; \"><span class=\"glyphicon glyphicon-pencil\"></span>&nbsp;Reserve</a>"
      ],
      "execution_count": 0,
      "outputs": []
    },
    {
      "cell_type": "code",
      "metadata": {
        "id": "4gaZ8fOW2cVp",
        "colab_type": "code",
        "colab": {}
      },
      "source": [
        ""
      ],
      "execution_count": 0,
      "outputs": []
    }
  ]
}